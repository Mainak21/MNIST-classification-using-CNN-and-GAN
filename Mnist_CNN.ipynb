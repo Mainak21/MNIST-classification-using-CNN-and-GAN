{
  "nbformat": 4,
  "nbformat_minor": 0,
  "metadata": {
    "colab": {
      "name": "Mnist_CNN.ipynb",
      "provenance": [],
      "collapsed_sections": []
    },
    "kernelspec": {
      "name": "python3",
      "display_name": "Python 3"
    },
    "language_info": {
      "name": "python"
    },
    "accelerator": "GPU"
  },
  "cells": [
    {
      "cell_type": "code",
      "execution_count": 1,
      "metadata": {
        "id": "FmtMxkjYc5JU"
      },
      "outputs": [],
      "source": [
        "import tensorflow as tf\n",
        "import keras\n",
        "import matplotlib.pyplot as plt\n",
        "from tensorflow.keras import backend as K\n",
        "from tensorflow.keras.models import Sequential\n",
        "from tensorflow.keras.datasets import mnist\n",
        "from tensorflow.keras.layers import Dense, Dropout, Conv2D, MaxPooling2D, Flatten\n",
        "from tensorflow.keras.optimizers import RMSprop"
      ]
    },
    {
      "cell_type": "code",
      "source": [
        "# Load and split the data\n",
        "(X_train, y_train), (X_test, y_test) = mnist.load_data()"
      ],
      "metadata": {
        "id": "D0yLfwhxdMYP"
      },
      "execution_count": 2,
      "outputs": []
    },
    {
      "cell_type": "code",
      "source": [
        "# Backend\n",
        "if K.image_data_format() == 'channels_first':\n",
        "    X_train = X_train.reshape(X_train.shape[0], 1, 28, 28)\n",
        "    X_test = X_test.reshape(X_test.shape[0], 1, 28, 28)\n",
        "    input_shape = (1, 28, 28)\n",
        "else:\n",
        "    X_train = X_train.reshape(X_train.shape[0], 28, 28, 1)\n",
        "    X_test = X_test.reshape(X_test.shape[0], 28, 28, 1)\n",
        "    input_shape = (28, 28, 1)\n",
        "    \n",
        "X_train = X_train.astype('float32') / 255\n",
        "X_test = X_test.astype('float32') / 255"
      ],
      "metadata": {
        "id": "ylEPFCN5dNO6"
      },
      "execution_count": 3,
      "outputs": []
    },
    {
      "cell_type": "code",
      "source": [
        "print(X_train.shape)\n",
        "print(y_train.shape)\n",
        "print(X_test.shape)\n",
        "print(y_test.shape)"
      ],
      "metadata": {
        "colab": {
          "base_uri": "https://localhost:8080/"
        },
        "id": "PPAgBJ8zh-Ms",
        "outputId": "4093cfad-e863-40c6-f5e4-4c3b50e02552"
      },
      "execution_count": 4,
      "outputs": [
        {
          "output_type": "stream",
          "name": "stdout",
          "text": [
            "(60000, 28, 28, 1)\n",
            "(60000,)\n",
            "(10000, 28, 28, 1)\n",
            "(10000,)\n"
          ]
        }
      ]
    },
    {
      "cell_type": "code",
      "source": [
        "def sample(j):\n",
        "    print(y_train[j])  \n",
        "    output = y_train[j].argmax(axis=0)\n",
        "    sample_image = X_train[j].reshape([28,28])\n",
        "    plt.title('Sample: %d  Label: %d' % (j,  output))\n",
        "    plt.imshow(sample_image, cmap=plt.get_cmap('gray_r'))\n",
        "    plt.show()\n",
        "    \n",
        "sample(3652)"
      ],
      "metadata": {
        "colab": {
          "base_uri": "https://localhost:8080/",
          "height": 298
        },
        "id": "isIFW1cYdR2N",
        "outputId": "af46442d-6b45-408e-f8ef-841f0dbd92b1"
      },
      "execution_count": 5,
      "outputs": [
        {
          "output_type": "stream",
          "name": "stdout",
          "text": [
            "4\n"
          ]
        },
        {
          "output_type": "display_data",
          "data": {
            "text/plain": [
              "<Figure size 432x288 with 1 Axes>"
            ],
            "image/png": "[encoded data removed]"
          },
          "metadata": {
            "needs_background": "light"
          }
        }
      ]
    },
    {
      "cell_type": "code",
      "source": [
        "model = Sequential()\n",
        "model.add(Conv2D(32, kernel_size=(3, 3),\n",
        "                 activation='LeakyReLU',\n",
        "                 input_shape=input_shape))\n",
        "model.add(Conv2D(64, (3, 3), activation='LeakyReLU'))\n",
        "model.add(MaxPooling2D(pool_size=(2, 2)))\n",
        "model.add(Dropout(0.25))\n",
        "model.add(Flatten())\n",
        "model.add(Dense(128, activation='LeakyReLU'))\n",
        "model.add(Dropout(0.5))\n",
        "model.add(Dense(10, activation='softmax'))\n",
        "model.summary()"
      ],
      "metadata": {
        "colab": {
          "base_uri": "https://localhost:8080/"
        },
        "id": "MJGGW69edR4i",
        "outputId": "134b5fc4-a15e-43e7-ad50-15f056a6ba14"
      },
      "execution_count": 6,
      "outputs": [
        {
          "output_type": "stream",
          "name": "stdout",
          "text": [
            "Model: \"sequential\"\n",
            "_________________________________________________________________\n",
            " Layer (type)                Output Shape              Param #   \n",
            "=================================================================\n",
            " conv2d (Conv2D)             (None, 26, 26, 32)        320       \n",
            "                                                                 \n",
            " conv2d_1 (Conv2D)           (None, 24, 24, 64)        18496     \n",
            "                                                                 \n",
            " max_pooling2d (MaxPooling2D  (None, 12, 12, 64)       0         \n",
            " )                                                               \n",
            "                                                                 \n",
            " dropout (Dropout)           (None, 12, 12, 64)        0         \n",
            "                                                                 \n",
            " flatten (Flatten)           (None, 9216)              0         \n",
            "                                                                 \n",
            " dense (Dense)               (None, 128)               1179776   \n",
            "                                                                 \n",
            " dropout_1 (Dropout)         (None, 128)               0         \n",
            "                                                                 \n",
            " dense_1 (Dense)             (None, 10)                1290      \n",
            "                                                                 \n",
            "=================================================================\n",
            "Total params: 1,199,882\n",
            "Trainable params: 1,199,882\n",
            "Non-trainable params: 0\n",
            "_________________________________________________________________\n"
          ]
        }
      ]
    },
    {
      "cell_type": "code",
      "source": [
        "model.compile(loss='sparse_categorical_crossentropy',\n",
        "              optimizer='adam',\n",
        "              metrics=['accuracy'])"
      ],
      "metadata": {
        "id": "0wGrp2dEdcOg"
      },
      "execution_count": 7,
      "outputs": []
    },
    {
      "cell_type": "code",
      "source": [
        "model.fit(X_train, y_train,\n",
        "                    batch_size=32,\n",
        "                    epochs=30,\n",
        "                    verbose=2,\n",
        "                    validation_data=(X_test, y_test))"
      ],
      "metadata": {
        "colab": {
          "base_uri": "https://localhost:8080/"
        },
        "id": "2g2F4NladR7I",
        "outputId": "f6792724-47c7-4caf-a328-e353a93e5dd4"
      },
      "execution_count": 8,
      "outputs": [
        {
          "output_type": "stream",
          "name": "stdout",
          "text": [
            "Epoch 1/30\n",
            "1875/1875 - 18s - loss: 0.1660 - accuracy: 0.9496 - val_loss: 0.0503 - val_accuracy: 0.9821 - 18s/epoch - 10ms/step\n",
            "Epoch 2/30\n",
            "1875/1875 - 16s - loss: 0.0809 - accuracy: 0.9754 - val_loss: 0.0494 - val_accuracy: 0.9836 - 16s/epoch - 8ms/step\n",
            "Epoch 3/30\n",
            "1875/1875 - 16s - loss: 0.0666 - accuracy: 0.9790 - val_loss: 0.0489 - val_accuracy: 0.9849 - 16s/epoch - 9ms/step\n",
            "Epoch 4/30\n",
            "1875/1875 - 16s - loss: 0.0576 - accuracy: 0.9815 - val_loss: 0.0471 - val_accuracy: 0.9844 - 16s/epoch - 8ms/step\n",
            "Epoch 5/30\n",
            "1875/1875 - 16s - loss: 0.0522 - accuracy: 0.9840 - val_loss: 0.0444 - val_accuracy: 0.9867 - 16s/epoch - 8ms/step\n",
            "Epoch 6/30\n",
            "1875/1875 - 15s - loss: 0.0492 - accuracy: 0.9848 - val_loss: 0.0497 - val_accuracy: 0.9845 - 15s/epoch - 8ms/step\n",
            "Epoch 7/30\n",
            "1875/1875 - 15s - loss: 0.0427 - accuracy: 0.9863 - val_loss: 0.0438 - val_accuracy: 0.9862 - 15s/epoch - 8ms/step\n",
            "Epoch 8/30\n",
            "1875/1875 - 15s - loss: 0.0402 - accuracy: 0.9871 - val_loss: 0.0456 - val_accuracy: 0.9865 - 15s/epoch - 8ms/step\n",
            "Epoch 9/30\n",
            "1875/1875 - 15s - loss: 0.0397 - accuracy: 0.9872 - val_loss: 0.0496 - val_accuracy: 0.9871 - 15s/epoch - 8ms/step\n",
            "Epoch 10/30\n",
            "1875/1875 - 15s - loss: 0.0345 - accuracy: 0.9888 - val_loss: 0.0553 - val_accuracy: 0.9863 - 15s/epoch - 8ms/step\n",
            "Epoch 11/30\n",
            "1875/1875 - 15s - loss: 0.0348 - accuracy: 0.9894 - val_loss: 0.0472 - val_accuracy: 0.9865 - 15s/epoch - 8ms/step\n",
            "Epoch 12/30\n",
            "1875/1875 - 15s - loss: 0.0346 - accuracy: 0.9895 - val_loss: 0.0480 - val_accuracy: 0.9881 - 15s/epoch - 8ms/step\n",
            "Epoch 13/30\n",
            "1875/1875 - 15s - loss: 0.0301 - accuracy: 0.9902 - val_loss: 0.0506 - val_accuracy: 0.9881 - 15s/epoch - 8ms/step\n",
            "Epoch 14/30\n",
            "1875/1875 - 15s - loss: 0.0301 - accuracy: 0.9904 - val_loss: 0.0409 - val_accuracy: 0.9893 - 15s/epoch - 8ms/step\n",
            "Epoch 15/30\n",
            "1875/1875 - 15s - loss: 0.0307 - accuracy: 0.9901 - val_loss: 0.0488 - val_accuracy: 0.9890 - 15s/epoch - 8ms/step\n",
            "Epoch 16/30\n",
            "1875/1875 - 15s - loss: 0.0293 - accuracy: 0.9908 - val_loss: 0.0525 - val_accuracy: 0.9875 - 15s/epoch - 8ms/step\n",
            "Epoch 17/30\n",
            "1875/1875 - 15s - loss: 0.0286 - accuracy: 0.9911 - val_loss: 0.0580 - val_accuracy: 0.9875 - 15s/epoch - 8ms/step\n",
            "Epoch 18/30\n",
            "1875/1875 - 15s - loss: 0.0304 - accuracy: 0.9905 - val_loss: 0.0468 - val_accuracy: 0.9879 - 15s/epoch - 8ms/step\n",
            "Epoch 19/30\n",
            "1875/1875 - 15s - loss: 0.0246 - accuracy: 0.9926 - val_loss: 0.0527 - val_accuracy: 0.9886 - 15s/epoch - 8ms/step\n",
            "Epoch 20/30\n",
            "1875/1875 - 15s - loss: 0.0272 - accuracy: 0.9919 - val_loss: 0.0616 - val_accuracy: 0.9865 - 15s/epoch - 8ms/step\n",
            "Epoch 21/30\n",
            "1875/1875 - 15s - loss: 0.0276 - accuracy: 0.9918 - val_loss: 0.0511 - val_accuracy: 0.9874 - 15s/epoch - 8ms/step\n",
            "Epoch 22/30\n",
            "1875/1875 - 15s - loss: 0.0265 - accuracy: 0.9920 - val_loss: 0.0591 - val_accuracy: 0.9882 - 15s/epoch - 8ms/step\n",
            "Epoch 23/30\n",
            "1875/1875 - 15s - loss: 0.0262 - accuracy: 0.9922 - val_loss: 0.0606 - val_accuracy: 0.9884 - 15s/epoch - 8ms/step\n",
            "Epoch 24/30\n",
            "1875/1875 - 15s - loss: 0.0230 - accuracy: 0.9925 - val_loss: 0.0657 - val_accuracy: 0.9882 - 15s/epoch - 8ms/step\n",
            "Epoch 25/30\n",
            "1875/1875 - 15s - loss: 0.0267 - accuracy: 0.9923 - val_loss: 0.0562 - val_accuracy: 0.9890 - 15s/epoch - 8ms/step\n",
            "Epoch 26/30\n",
            "1875/1875 - 15s - loss: 0.0254 - accuracy: 0.9926 - val_loss: 0.0617 - val_accuracy: 0.9878 - 15s/epoch - 8ms/step\n",
            "Epoch 27/30\n",
            "1875/1875 - 15s - loss: 0.0250 - accuracy: 0.9926 - val_loss: 0.0549 - val_accuracy: 0.9894 - 15s/epoch - 8ms/step\n",
            "Epoch 28/30\n",
            "1875/1875 - 15s - loss: 0.0243 - accuracy: 0.9927 - val_loss: 0.0667 - val_accuracy: 0.9884 - 15s/epoch - 8ms/step\n",
            "Epoch 29/30\n",
            "1875/1875 - 15s - loss: 0.0237 - accuracy: 0.9931 - val_loss: 0.0637 - val_accuracy: 0.9892 - 15s/epoch - 8ms/step\n",
            "Epoch 30/30\n",
            "1875/1875 - 14s - loss: 0.0236 - accuracy: 0.9936 - val_loss: 0.0758 - val_accuracy: 0.9887 - 14s/epoch - 8ms/step\n"
          ]
        },
        {
          "output_type": "execute_result",
          "data": {
            "text/plain": [
              "<keras.callbacks.History at 0x7fd5fbe841d0>"
            ]
          },
          "metadata": {},
          "execution_count": 8
        }
      ]
    },
    {
      "cell_type": "code",
      "source": [
        "score = model.evaluate(X_test, y_test, verbose=0)\n"
      ],
      "metadata": {
        "id": "p3j_ml6RdnDF"
      },
      "execution_count": 9,
      "outputs": []
    },
    {
      "cell_type": "code",
      "source": [
        "print('Test loss:', score[0])\n",
        "print('Test accuracy:', score[1])"
      ],
      "metadata": {
        "colab": {
          "base_uri": "https://localhost:8080/"
        },
        "id": "UzBgQK-VdnEf",
        "outputId": "9b4c9e26-c730-45e5-b54a-6752d9d831cd"
      },
      "execution_count": 10,
      "outputs": [
        {
          "output_type": "stream",
          "name": "stdout",
          "text": [
            "Test loss: 0.07583083212375641\n",
            "Test accuracy: 0.9886999726295471\n"
          ]
        }
      ]
    }
  ]
}